{
 "cells": [
  {
   "cell_type": "markdown",
   "metadata": {},
   "source": [
    "# Pandas practice\n",
    "\n",
    "2017년 예방접종 데이터 'NISPUF17.csv'"
   ]
  },
  {
   "cell_type": "code",
   "execution_count": 22,
   "metadata": {},
   "outputs": [],
   "source": [
    "import pandas as pd\n",
    "import numpy as np"
   ]
  },
  {
   "cell_type": "code",
   "execution_count": 23,
   "metadata": {},
   "outputs": [
    {
     "data": {
      "text/plain": [
       "Int64Index([    1,     2,     3,     4,     5,     6,     7,     8,     9,\n",
       "               10,\n",
       "            ...\n",
       "            28456, 28457, 28458, 28459, 28460, 28461, 28462, 28463, 28464,\n",
       "            28465],\n",
       "           dtype='int64', length=28465)"
      ]
     },
     "execution_count": 23,
     "metadata": {},
     "output_type": "execute_result"
    }
   ],
   "source": [
    "data = pd.read_csv('data/1/NISPUF17.csv', index_col=0)\n",
    "data.index"
   ]
  },
  {
   "cell_type": "code",
   "execution_count": 24,
   "metadata": {},
   "outputs": [
    {
     "data": {
      "text/plain": [
       "Index(['SEQNUMC', 'SEQNUMHH', 'PDAT', 'PROVWT_D', 'RDDWT_D', 'STRATUM', 'YEAR',\n",
       "       'AGECPOXR', 'HAD_CPOX', 'AGEGRP',\n",
       "       ...\n",
       "       'XVRCTY2', 'XVRCTY3', 'XVRCTY4', 'XVRCTY5', 'XVRCTY6', 'XVRCTY7',\n",
       "       'XVRCTY8', 'XVRCTY9', 'INS_STAT2_I', 'INS_BREAK_I'],\n",
       "      dtype='object', length=453)"
      ]
     },
     "execution_count": 24,
     "metadata": {},
     "output_type": "execute_result"
    }
   ],
   "source": [
    "data.columns"
   ]
  },
  {
   "cell_type": "code",
   "execution_count": 25,
   "metadata": {},
   "outputs": [
    {
     "data": {
      "text/html": [
       "<div>\n",
       "<style scoped>\n",
       "    .dataframe tbody tr th:only-of-type {\n",
       "        vertical-align: middle;\n",
       "    }\n",
       "\n",
       "    .dataframe tbody tr th {\n",
       "        vertical-align: top;\n",
       "    }\n",
       "\n",
       "    .dataframe thead th {\n",
       "        text-align: right;\n",
       "    }\n",
       "</style>\n",
       "<table border=\"1\" class=\"dataframe\">\n",
       "  <thead>\n",
       "    <tr style=\"text-align: right;\">\n",
       "      <th></th>\n",
       "      <th>SEQNUMC</th>\n",
       "      <th>SEQNUMHH</th>\n",
       "      <th>PDAT</th>\n",
       "      <th>PROVWT_D</th>\n",
       "      <th>RDDWT_D</th>\n",
       "      <th>STRATUM</th>\n",
       "      <th>YEAR</th>\n",
       "      <th>AGECPOXR</th>\n",
       "      <th>HAD_CPOX</th>\n",
       "      <th>AGEGRP</th>\n",
       "      <th>...</th>\n",
       "      <th>XVRCTY2</th>\n",
       "      <th>XVRCTY3</th>\n",
       "      <th>XVRCTY4</th>\n",
       "      <th>XVRCTY5</th>\n",
       "      <th>XVRCTY6</th>\n",
       "      <th>XVRCTY7</th>\n",
       "      <th>XVRCTY8</th>\n",
       "      <th>XVRCTY9</th>\n",
       "      <th>INS_STAT2_I</th>\n",
       "      <th>INS_BREAK_I</th>\n",
       "    </tr>\n",
       "  </thead>\n",
       "  <tbody>\n",
       "    <tr>\n",
       "      <th>1</th>\n",
       "      <td>128521</td>\n",
       "      <td>12852</td>\n",
       "      <td>2</td>\n",
       "      <td>NaN</td>\n",
       "      <td>235.916956</td>\n",
       "      <td>1031</td>\n",
       "      <td>2017</td>\n",
       "      <td>NaN</td>\n",
       "      <td>2</td>\n",
       "      <td>1</td>\n",
       "      <td>...</td>\n",
       "      <td></td>\n",
       "      <td></td>\n",
       "      <td>NaN</td>\n",
       "      <td>NaN</td>\n",
       "      <td>NaN</td>\n",
       "      <td>NaN</td>\n",
       "      <td>NaN</td>\n",
       "      <td>NaN</td>\n",
       "      <td>NaN</td>\n",
       "      <td>NaN</td>\n",
       "    </tr>\n",
       "    <tr>\n",
       "      <th>2</th>\n",
       "      <td>10741</td>\n",
       "      <td>1074</td>\n",
       "      <td>2</td>\n",
       "      <td>NaN</td>\n",
       "      <td>957.353840</td>\n",
       "      <td>1068</td>\n",
       "      <td>2017</td>\n",
       "      <td>NaN</td>\n",
       "      <td>2</td>\n",
       "      <td>1</td>\n",
       "      <td>...</td>\n",
       "      <td></td>\n",
       "      <td></td>\n",
       "      <td>NaN</td>\n",
       "      <td>NaN</td>\n",
       "      <td>NaN</td>\n",
       "      <td>NaN</td>\n",
       "      <td>NaN</td>\n",
       "      <td>NaN</td>\n",
       "      <td>NaN</td>\n",
       "      <td>NaN</td>\n",
       "    </tr>\n",
       "    <tr>\n",
       "      <th>3</th>\n",
       "      <td>220011</td>\n",
       "      <td>22001</td>\n",
       "      <td>2</td>\n",
       "      <td>NaN</td>\n",
       "      <td>189.611299</td>\n",
       "      <td>1050</td>\n",
       "      <td>2017</td>\n",
       "      <td>NaN</td>\n",
       "      <td>2</td>\n",
       "      <td>3</td>\n",
       "      <td>...</td>\n",
       "      <td></td>\n",
       "      <td></td>\n",
       "      <td>NaN</td>\n",
       "      <td>NaN</td>\n",
       "      <td>NaN</td>\n",
       "      <td>NaN</td>\n",
       "      <td>NaN</td>\n",
       "      <td>NaN</td>\n",
       "      <td>NaN</td>\n",
       "      <td>NaN</td>\n",
       "    </tr>\n",
       "    <tr>\n",
       "      <th>4</th>\n",
       "      <td>86131</td>\n",
       "      <td>8613</td>\n",
       "      <td>1</td>\n",
       "      <td>675.430817</td>\n",
       "      <td>333.447418</td>\n",
       "      <td>1040</td>\n",
       "      <td>2017</td>\n",
       "      <td>NaN</td>\n",
       "      <td>2</td>\n",
       "      <td>1</td>\n",
       "      <td>...</td>\n",
       "      <td></td>\n",
       "      <td></td>\n",
       "      <td>NaN</td>\n",
       "      <td>NaN</td>\n",
       "      <td>NaN</td>\n",
       "      <td>NaN</td>\n",
       "      <td>NaN</td>\n",
       "      <td>NaN</td>\n",
       "      <td>1.0</td>\n",
       "      <td>2.0</td>\n",
       "    </tr>\n",
       "    <tr>\n",
       "      <th>5</th>\n",
       "      <td>227141</td>\n",
       "      <td>22714</td>\n",
       "      <td>1</td>\n",
       "      <td>482.617748</td>\n",
       "      <td>278.768063</td>\n",
       "      <td>1008</td>\n",
       "      <td>2017</td>\n",
       "      <td>NaN</td>\n",
       "      <td>2</td>\n",
       "      <td>1</td>\n",
       "      <td>...</td>\n",
       "      <td></td>\n",
       "      <td></td>\n",
       "      <td>NaN</td>\n",
       "      <td>NaN</td>\n",
       "      <td>NaN</td>\n",
       "      <td>NaN</td>\n",
       "      <td>NaN</td>\n",
       "      <td>NaN</td>\n",
       "      <td>2.0</td>\n",
       "      <td>1.0</td>\n",
       "    </tr>\n",
       "    <tr>\n",
       "      <th>6</th>\n",
       "      <td>207941</td>\n",
       "      <td>20794</td>\n",
       "      <td>2</td>\n",
       "      <td>NaN</td>\n",
       "      <td>35.995367</td>\n",
       "      <td>1019</td>\n",
       "      <td>2017</td>\n",
       "      <td>NaN</td>\n",
       "      <td>2</td>\n",
       "      <td>2</td>\n",
       "      <td>...</td>\n",
       "      <td></td>\n",
       "      <td></td>\n",
       "      <td>NaN</td>\n",
       "      <td>NaN</td>\n",
       "      <td>NaN</td>\n",
       "      <td>NaN</td>\n",
       "      <td>NaN</td>\n",
       "      <td>NaN</td>\n",
       "      <td>NaN</td>\n",
       "      <td>NaN</td>\n",
       "    </tr>\n",
       "    <tr>\n",
       "      <th>7</th>\n",
       "      <td>221381</td>\n",
       "      <td>22138</td>\n",
       "      <td>1</td>\n",
       "      <td>516.427723</td>\n",
       "      <td>248.916038</td>\n",
       "      <td>1008</td>\n",
       "      <td>2017</td>\n",
       "      <td>NaN</td>\n",
       "      <td>2</td>\n",
       "      <td>3</td>\n",
       "      <td>...</td>\n",
       "      <td></td>\n",
       "      <td></td>\n",
       "      <td>NaN</td>\n",
       "      <td>NaN</td>\n",
       "      <td>NaN</td>\n",
       "      <td>NaN</td>\n",
       "      <td>NaN</td>\n",
       "      <td>NaN</td>\n",
       "      <td>1.0</td>\n",
       "      <td>2.0</td>\n",
       "    </tr>\n",
       "    <tr>\n",
       "      <th>8</th>\n",
       "      <td>182861</td>\n",
       "      <td>18286</td>\n",
       "      <td>1</td>\n",
       "      <td>313.225832</td>\n",
       "      <td>163.213401</td>\n",
       "      <td>1001</td>\n",
       "      <td>2017</td>\n",
       "      <td>NaN</td>\n",
       "      <td>2</td>\n",
       "      <td>2</td>\n",
       "      <td>...</td>\n",
       "      <td></td>\n",
       "      <td></td>\n",
       "      <td>NaN</td>\n",
       "      <td>NaN</td>\n",
       "      <td>NaN</td>\n",
       "      <td>NaN</td>\n",
       "      <td>NaN</td>\n",
       "      <td>NaN</td>\n",
       "      <td>3.0</td>\n",
       "      <td>2.0</td>\n",
       "    </tr>\n",
       "    <tr>\n",
       "      <th>9</th>\n",
       "      <td>161121</td>\n",
       "      <td>16112</td>\n",
       "      <td>1</td>\n",
       "      <td>978.042448</td>\n",
       "      <td>718.616990</td>\n",
       "      <td>1016</td>\n",
       "      <td>2017</td>\n",
       "      <td>3.0</td>\n",
       "      <td>1</td>\n",
       "      <td>1</td>\n",
       "      <td>...</td>\n",
       "      <td></td>\n",
       "      <td></td>\n",
       "      <td>NaN</td>\n",
       "      <td>NaN</td>\n",
       "      <td>NaN</td>\n",
       "      <td>NaN</td>\n",
       "      <td>NaN</td>\n",
       "      <td>NaN</td>\n",
       "      <td>4.0</td>\n",
       "      <td>4.0</td>\n",
       "    </tr>\n",
       "    <tr>\n",
       "      <th>10</th>\n",
       "      <td>143401</td>\n",
       "      <td>14340</td>\n",
       "      <td>2</td>\n",
       "      <td>NaN</td>\n",
       "      <td>1536.859533</td>\n",
       "      <td>1068</td>\n",
       "      <td>2017</td>\n",
       "      <td>NaN</td>\n",
       "      <td>2</td>\n",
       "      <td>3</td>\n",
       "      <td>...</td>\n",
       "      <td></td>\n",
       "      <td></td>\n",
       "      <td>NaN</td>\n",
       "      <td>NaN</td>\n",
       "      <td>NaN</td>\n",
       "      <td>NaN</td>\n",
       "      <td>NaN</td>\n",
       "      <td>NaN</td>\n",
       "      <td>NaN</td>\n",
       "      <td>NaN</td>\n",
       "    </tr>\n",
       "  </tbody>\n",
       "</table>\n",
       "<p>10 rows × 453 columns</p>\n",
       "</div>"
      ],
      "text/plain": [
       "    SEQNUMC  SEQNUMHH  PDAT    PROVWT_D      RDDWT_D  STRATUM  YEAR  AGECPOXR  \\\n",
       "1    128521     12852     2         NaN   235.916956     1031  2017       NaN   \n",
       "2     10741      1074     2         NaN   957.353840     1068  2017       NaN   \n",
       "3    220011     22001     2         NaN   189.611299     1050  2017       NaN   \n",
       "4     86131      8613     1  675.430817   333.447418     1040  2017       NaN   \n",
       "5    227141     22714     1  482.617748   278.768063     1008  2017       NaN   \n",
       "6    207941     20794     2         NaN    35.995367     1019  2017       NaN   \n",
       "7    221381     22138     1  516.427723   248.916038     1008  2017       NaN   \n",
       "8    182861     18286     1  313.225832   163.213401     1001  2017       NaN   \n",
       "9    161121     16112     1  978.042448   718.616990     1016  2017       3.0   \n",
       "10   143401     14340     2         NaN  1536.859533     1068  2017       NaN   \n",
       "\n",
       "    HAD_CPOX  AGEGRP  ...  XVRCTY2  XVRCTY3  XVRCTY4  XVRCTY5  XVRCTY6  \\\n",
       "1          2       1  ...                        NaN      NaN      NaN   \n",
       "2          2       1  ...                        NaN      NaN      NaN   \n",
       "3          2       3  ...                        NaN      NaN      NaN   \n",
       "4          2       1  ...                        NaN      NaN      NaN   \n",
       "5          2       1  ...                        NaN      NaN      NaN   \n",
       "6          2       2  ...                        NaN      NaN      NaN   \n",
       "7          2       3  ...                        NaN      NaN      NaN   \n",
       "8          2       2  ...                        NaN      NaN      NaN   \n",
       "9          1       1  ...                        NaN      NaN      NaN   \n",
       "10         2       3  ...                        NaN      NaN      NaN   \n",
       "\n",
       "    XVRCTY7  XVRCTY8  XVRCTY9  INS_STAT2_I  INS_BREAK_I  \n",
       "1       NaN      NaN      NaN          NaN          NaN  \n",
       "2       NaN      NaN      NaN          NaN          NaN  \n",
       "3       NaN      NaN      NaN          NaN          NaN  \n",
       "4       NaN      NaN      NaN          1.0          2.0  \n",
       "5       NaN      NaN      NaN          2.0          1.0  \n",
       "6       NaN      NaN      NaN          NaN          NaN  \n",
       "7       NaN      NaN      NaN          1.0          2.0  \n",
       "8       NaN      NaN      NaN          3.0          2.0  \n",
       "9       NaN      NaN      NaN          4.0          4.0  \n",
       "10      NaN      NaN      NaN          NaN          NaN  \n",
       "\n",
       "[10 rows x 453 columns]"
      ]
     },
     "execution_count": 25,
     "metadata": {},
     "output_type": "execute_result"
    }
   ],
   "source": [
    "data.head(10)"
   ]
  },
  {
   "cell_type": "markdown",
   "metadata": {},
   "source": [
    "부모들의 학력 비율\n",
    "```\n",
    "[EDUC1] = \"less than high school\" : 1\n",
    "          \"high school\" : 2\n",
    "          \"more than high school but not college\" : 3\n",
    "          \"college\" : 4\n",
    "```"
   ]
  },
  {
   "cell_type": "code",
   "execution_count": 26,
   "metadata": {},
   "outputs": [],
   "source": [
    "educ1=data['EDUC1'].value_counts()"
   ]
  },
  {
   "cell_type": "code",
   "execution_count": 27,
   "metadata": {},
   "outputs": [
    {
     "data": {
      "text/plain": [
       "4    13656\n",
       "3     6999\n",
       "2     4906\n",
       "1     2904\n",
       "Name: EDUC1, dtype: int64"
      ]
     },
     "execution_count": 27,
     "metadata": {},
     "output_type": "execute_result"
    }
   ],
   "source": [
    "educ1"
   ]
  },
  {
   "cell_type": "code",
   "execution_count": 28,
   "metadata": {},
   "outputs": [
    {
     "data": {
      "text/plain": [
       "28465"
      ]
     },
     "execution_count": 28,
     "metadata": {},
     "output_type": "execute_result"
    }
   ],
   "source": [
    "total=sum(educ1)\n",
    "total"
   ]
  },
  {
   "cell_type": "code",
   "execution_count": 29,
   "metadata": {},
   "outputs": [
    {
     "data": {
      "text/plain": [
       "{'less than high school': 0.10202002459160373,\n",
       " 'high school': 0.172352011241876,\n",
       " 'more than high school but not college': 0.24588090637625154,\n",
       " 'college': 0.47974705779026877}"
      ]
     },
     "execution_count": 29,
     "metadata": {},
     "output_type": "execute_result"
    }
   ],
   "source": [
    "parents_edu_ratio = {\"less than high school\":educ1[1]/total,\n",
    "                    \"high school\":educ1[2]/total,\n",
    "                    \"more than high school but not college\":educ1[3]/total,\n",
    "                    \"college\":educ1[4]/total}\n",
    "parents_edu_ratio"
   ]
  },
  {
   "cell_type": "markdown",
   "metadata": {},
   "source": [
    "모유 제공과 인플루엔자 백신 투여 수의 관계성\n",
    "\n",
    "breastmilk를 제공받은 아이들과 그렇지 못한 아이들의 평균 인플루엔자 백신 투여 수를 확인\n",
    "```\n",
    "[P_NUMFLU] : total number of influenza does\n",
    "\n",
    "[CBF_01] = child fed breast milk: Yes = 1\n",
    "                                  No = 2\n",
    "```"
   ]
  },
  {
   "cell_type": "code",
   "execution_count": 30,
   "metadata": {},
   "outputs": [
    {
     "data": {
      "text/html": [
       "<div>\n",
       "<style scoped>\n",
       "    .dataframe tbody tr th:only-of-type {\n",
       "        vertical-align: middle;\n",
       "    }\n",
       "\n",
       "    .dataframe tbody tr th {\n",
       "        vertical-align: top;\n",
       "    }\n",
       "\n",
       "    .dataframe thead th {\n",
       "        text-align: right;\n",
       "    }\n",
       "</style>\n",
       "<table border=\"1\" class=\"dataframe\">\n",
       "  <thead>\n",
       "    <tr style=\"text-align: right;\">\n",
       "      <th></th>\n",
       "      <th>P_NUMFLU</th>\n",
       "      <th>CBF_01</th>\n",
       "    </tr>\n",
       "  </thead>\n",
       "  <tbody>\n",
       "    <tr>\n",
       "      <th>1</th>\n",
       "      <td>NaN</td>\n",
       "      <td>1</td>\n",
       "    </tr>\n",
       "    <tr>\n",
       "      <th>2</th>\n",
       "      <td>NaN</td>\n",
       "      <td>2</td>\n",
       "    </tr>\n",
       "    <tr>\n",
       "      <th>3</th>\n",
       "      <td>NaN</td>\n",
       "      <td>2</td>\n",
       "    </tr>\n",
       "    <tr>\n",
       "      <th>4</th>\n",
       "      <td>3.0</td>\n",
       "      <td>2</td>\n",
       "    </tr>\n",
       "    <tr>\n",
       "      <th>5</th>\n",
       "      <td>0.0</td>\n",
       "      <td>1</td>\n",
       "    </tr>\n",
       "    <tr>\n",
       "      <th>...</th>\n",
       "      <td>...</td>\n",
       "      <td>...</td>\n",
       "    </tr>\n",
       "    <tr>\n",
       "      <th>28461</th>\n",
       "      <td>NaN</td>\n",
       "      <td>2</td>\n",
       "    </tr>\n",
       "    <tr>\n",
       "      <th>28462</th>\n",
       "      <td>NaN</td>\n",
       "      <td>1</td>\n",
       "    </tr>\n",
       "    <tr>\n",
       "      <th>28463</th>\n",
       "      <td>NaN</td>\n",
       "      <td>1</td>\n",
       "    </tr>\n",
       "    <tr>\n",
       "      <th>28464</th>\n",
       "      <td>NaN</td>\n",
       "      <td>2</td>\n",
       "    </tr>\n",
       "    <tr>\n",
       "      <th>28465</th>\n",
       "      <td>NaN</td>\n",
       "      <td>1</td>\n",
       "    </tr>\n",
       "  </tbody>\n",
       "</table>\n",
       "<p>28465 rows × 2 columns</p>\n",
       "</div>"
      ],
      "text/plain": [
       "       P_NUMFLU  CBF_01\n",
       "1           NaN       1\n",
       "2           NaN       2\n",
       "3           NaN       2\n",
       "4           3.0       2\n",
       "5           0.0       1\n",
       "...         ...     ...\n",
       "28461       NaN       2\n",
       "28462       NaN       1\n",
       "28463       NaN       1\n",
       "28464       NaN       2\n",
       "28465       NaN       1\n",
       "\n",
       "[28465 rows x 2 columns]"
      ]
     },
     "execution_count": 30,
     "metadata": {},
     "output_type": "execute_result"
    }
   ],
   "source": [
    "columns=['P_NUMFLU', 'CBF_01']\n",
    "df=data[columns]\n",
    "df"
   ]
  },
  {
   "cell_type": "code",
   "execution_count": 31,
   "metadata": {},
   "outputs": [
    {
     "name": "stdout",
     "output_type": "stream",
     "text": [
      "<class 'pandas.core.frame.DataFrame'>\n",
      "Int64Index: 28465 entries, 1 to 28465\n",
      "Data columns (total 2 columns):\n",
      " #   Column    Non-Null Count  Dtype  \n",
      "---  ------    --------------  -----  \n",
      " 0   P_NUMFLU  15333 non-null  float64\n",
      " 1   CBF_01    28465 non-null  int64  \n",
      "dtypes: float64(1), int64(1)\n",
      "memory usage: 667.1 KB\n"
     ]
    }
   ],
   "source": [
    "df.info()"
   ]
  },
  {
   "cell_type": "code",
   "execution_count": 32,
   "metadata": {},
   "outputs": [
    {
     "data": {
      "text/plain": [
       "1.5963945918878317"
      ]
     },
     "execution_count": 32,
     "metadata": {},
     "output_type": "execute_result"
    }
   ],
   "source": [
    "bm_sum = df.P_NUMFLU.where(df['CBF_01']==1).dropna().sum()\n",
    "bm_count = df.P_NUMFLU.where(df['CBF_01']==1).dropna().count()\n",
    "bm_avg = bm_sum/bm_count\n",
    "nobm_sum = df.P_NUMFLU.where(df['CBF_01']==2).dropna().sum()\n",
    "nobm_count = df.P_NUMFLU.where(df['CBF_01']==2).dropna().count()\n",
    "nobm_avg = nobm_sum/nobm_count\n",
    "nobm_avg"
   ]
  },
  {
   "cell_type": "code",
   "execution_count": 36,
   "metadata": {},
   "outputs": [
    {
     "name": "stdout",
     "output_type": "stream",
     "text": [
      "모유 제공받은 아이들의 평균 백신 투여 수: 1.8799187420058687\n",
      "모유 제공받지 못한 아이들의 평균 백신 투여 수: 1.5963945918878317\n"
     ]
    }
   ],
   "source": [
    "print(\"모유 제공받은 아이들의 평균 백신 투여 수: {}\".format(bm_avg))\n",
    "print(\"모유 제공받지 못한 아이들의 평균 백신 투여 수: {}\".format(nobm_avg))"
   ]
  },
  {
   "cell_type": "markdown",
   "metadata": {},
   "source": [
    "아이들의 성별과 백신 효과의 연관성이 있는지 확인\n",
    "\n",
    "성별에 따라\n",
    "백신을 맞은 아이들 중에서 ( ['P_NUUMVRC'] > 0 )\n",
    "chikenpox(수두(병 이름?))에 걸린 적이 있는지 확인 ( ['HAD_CPOX'] )"
   ]
  },
  {
   "cell_type": "code",
   "execution_count": 37,
   "metadata": {},
   "outputs": [],
   "source": [
    "columns=['SEX', 'HAD_CPOX', 'P_NUMVRC']\n",
    "data=data[columns].dropna()"
   ]
  },
  {
   "cell_type": "code",
   "execution_count": 38,
   "metadata": {},
   "outputs": [
    {
     "data": {
      "text/html": [
       "<div>\n",
       "<style scoped>\n",
       "    .dataframe tbody tr th:only-of-type {\n",
       "        vertical-align: middle;\n",
       "    }\n",
       "\n",
       "    .dataframe tbody tr th {\n",
       "        vertical-align: top;\n",
       "    }\n",
       "\n",
       "    .dataframe thead th {\n",
       "        text-align: right;\n",
       "    }\n",
       "</style>\n",
       "<table border=\"1\" class=\"dataframe\">\n",
       "  <thead>\n",
       "    <tr style=\"text-align: right;\">\n",
       "      <th></th>\n",
       "      <th>SEX</th>\n",
       "      <th>HAD_CPOX</th>\n",
       "      <th>P_NUMVRC</th>\n",
       "    </tr>\n",
       "  </thead>\n",
       "  <tbody>\n",
       "    <tr>\n",
       "      <th>4</th>\n",
       "      <td>2</td>\n",
       "      <td>2</td>\n",
       "      <td>1.0</td>\n",
       "    </tr>\n",
       "    <tr>\n",
       "      <th>5</th>\n",
       "      <td>2</td>\n",
       "      <td>2</td>\n",
       "      <td>0.0</td>\n",
       "    </tr>\n",
       "    <tr>\n",
       "      <th>7</th>\n",
       "      <td>2</td>\n",
       "      <td>2</td>\n",
       "      <td>1.0</td>\n",
       "    </tr>\n",
       "    <tr>\n",
       "      <th>8</th>\n",
       "      <td>2</td>\n",
       "      <td>2</td>\n",
       "      <td>0.0</td>\n",
       "    </tr>\n",
       "    <tr>\n",
       "      <th>9</th>\n",
       "      <td>1</td>\n",
       "      <td>1</td>\n",
       "      <td>0.0</td>\n",
       "    </tr>\n",
       "    <tr>\n",
       "      <th>...</th>\n",
       "      <td>...</td>\n",
       "      <td>...</td>\n",
       "      <td>...</td>\n",
       "    </tr>\n",
       "    <tr>\n",
       "      <th>28447</th>\n",
       "      <td>2</td>\n",
       "      <td>2</td>\n",
       "      <td>1.0</td>\n",
       "    </tr>\n",
       "    <tr>\n",
       "      <th>28448</th>\n",
       "      <td>1</td>\n",
       "      <td>2</td>\n",
       "      <td>1.0</td>\n",
       "    </tr>\n",
       "    <tr>\n",
       "      <th>28450</th>\n",
       "      <td>1</td>\n",
       "      <td>2</td>\n",
       "      <td>1.0</td>\n",
       "    </tr>\n",
       "    <tr>\n",
       "      <th>28453</th>\n",
       "      <td>2</td>\n",
       "      <td>2</td>\n",
       "      <td>1.0</td>\n",
       "    </tr>\n",
       "    <tr>\n",
       "      <th>28455</th>\n",
       "      <td>2</td>\n",
       "      <td>2</td>\n",
       "      <td>1.0</td>\n",
       "    </tr>\n",
       "  </tbody>\n",
       "</table>\n",
       "<p>15333 rows × 3 columns</p>\n",
       "</div>"
      ],
      "text/plain": [
       "       SEX  HAD_CPOX  P_NUMVRC\n",
       "4        2         2       1.0\n",
       "5        2         2       0.0\n",
       "7        2         2       1.0\n",
       "8        2         2       0.0\n",
       "9        1         1       0.0\n",
       "...    ...       ...       ...\n",
       "28447    2         2       1.0\n",
       "28448    1         2       1.0\n",
       "28450    1         2       1.0\n",
       "28453    2         2       1.0\n",
       "28455    2         2       1.0\n",
       "\n",
       "[15333 rows x 3 columns]"
      ]
     },
     "execution_count": 38,
     "metadata": {},
     "output_type": "execute_result"
    }
   ],
   "source": [
    "data"
   ]
  },
  {
   "cell_type": "code",
   "execution_count": 39,
   "metadata": {},
   "outputs": [],
   "source": [
    "male_data=data[data['SEX']==1]\n",
    "female_data=data[data['SEX']==2]"
   ]
  },
  {
   "cell_type": "code",
   "execution_count": 40,
   "metadata": {},
   "outputs": [
    {
     "data": {
      "text/html": [
       "<div>\n",
       "<style scoped>\n",
       "    .dataframe tbody tr th:only-of-type {\n",
       "        vertical-align: middle;\n",
       "    }\n",
       "\n",
       "    .dataframe tbody tr th {\n",
       "        vertical-align: top;\n",
       "    }\n",
       "\n",
       "    .dataframe thead th {\n",
       "        text-align: right;\n",
       "    }\n",
       "</style>\n",
       "<table border=\"1\" class=\"dataframe\">\n",
       "  <thead>\n",
       "    <tr style=\"text-align: right;\">\n",
       "      <th></th>\n",
       "      <th>SEX</th>\n",
       "      <th>HAD_CPOX</th>\n",
       "      <th>P_NUMVRC</th>\n",
       "    </tr>\n",
       "  </thead>\n",
       "  <tbody>\n",
       "    <tr>\n",
       "      <th>9</th>\n",
       "      <td>1</td>\n",
       "      <td>1</td>\n",
       "      <td>0.0</td>\n",
       "    </tr>\n",
       "    <tr>\n",
       "      <th>11</th>\n",
       "      <td>1</td>\n",
       "      <td>2</td>\n",
       "      <td>1.0</td>\n",
       "    </tr>\n",
       "    <tr>\n",
       "      <th>13</th>\n",
       "      <td>1</td>\n",
       "      <td>2</td>\n",
       "      <td>1.0</td>\n",
       "    </tr>\n",
       "    <tr>\n",
       "      <th>17</th>\n",
       "      <td>1</td>\n",
       "      <td>2</td>\n",
       "      <td>2.0</td>\n",
       "    </tr>\n",
       "    <tr>\n",
       "      <th>20</th>\n",
       "      <td>1</td>\n",
       "      <td>2</td>\n",
       "      <td>1.0</td>\n",
       "    </tr>\n",
       "    <tr>\n",
       "      <th>...</th>\n",
       "      <td>...</td>\n",
       "      <td>...</td>\n",
       "      <td>...</td>\n",
       "    </tr>\n",
       "    <tr>\n",
       "      <th>28436</th>\n",
       "      <td>1</td>\n",
       "      <td>2</td>\n",
       "      <td>1.0</td>\n",
       "    </tr>\n",
       "    <tr>\n",
       "      <th>28437</th>\n",
       "      <td>1</td>\n",
       "      <td>2</td>\n",
       "      <td>1.0</td>\n",
       "    </tr>\n",
       "    <tr>\n",
       "      <th>28439</th>\n",
       "      <td>1</td>\n",
       "      <td>2</td>\n",
       "      <td>1.0</td>\n",
       "    </tr>\n",
       "    <tr>\n",
       "      <th>28448</th>\n",
       "      <td>1</td>\n",
       "      <td>2</td>\n",
       "      <td>1.0</td>\n",
       "    </tr>\n",
       "    <tr>\n",
       "      <th>28450</th>\n",
       "      <td>1</td>\n",
       "      <td>2</td>\n",
       "      <td>1.0</td>\n",
       "    </tr>\n",
       "  </tbody>\n",
       "</table>\n",
       "<p>7819 rows × 3 columns</p>\n",
       "</div>"
      ],
      "text/plain": [
       "       SEX  HAD_CPOX  P_NUMVRC\n",
       "9        1         1       0.0\n",
       "11       1         2       1.0\n",
       "13       1         2       1.0\n",
       "17       1         2       2.0\n",
       "20       1         2       1.0\n",
       "...    ...       ...       ...\n",
       "28436    1         2       1.0\n",
       "28437    1         2       1.0\n",
       "28439    1         2       1.0\n",
       "28448    1         2       1.0\n",
       "28450    1         2       1.0\n",
       "\n",
       "[7819 rows x 3 columns]"
      ]
     },
     "execution_count": 40,
     "metadata": {},
     "output_type": "execute_result"
    }
   ],
   "source": [
    "male_data"
   ]
  },
  {
   "cell_type": "code",
   "execution_count": 46,
   "metadata": {},
   "outputs": [
    {
     "name": "stdout",
     "output_type": "stream",
     "text": [
      "<class 'pandas.core.frame.DataFrame'>\n",
      "Int64Index: 7819 entries, 9 to 28450\n",
      "Data columns (total 3 columns):\n",
      " #   Column    Non-Null Count  Dtype  \n",
      "---  ------    --------------  -----  \n",
      " 0   SEX       7819 non-null   int64  \n",
      " 1   HAD_CPOX  7819 non-null   int64  \n",
      " 2   P_NUMVRC  7819 non-null   float64\n",
      "dtypes: float64(1), int64(2)\n",
      "memory usage: 244.3 KB\n"
     ]
    }
   ],
   "source": [
    "male_data.info()"
   ]
  },
  {
   "cell_type": "code",
   "execution_count": 41,
   "metadata": {},
   "outputs": [],
   "source": [
    "male_vrc = male_data[male_data['P_NUMVRC']>0]\n",
    "female_vrc = female_data[female_data['P_NUMVRC']>0]"
   ]
  },
  {
   "cell_type": "code",
   "execution_count": 42,
   "metadata": {},
   "outputs": [],
   "source": [
    "male_cpx = male_vrc[male_vrc['HAD_CPOX']==1]['SEX'].count()\n",
    "male_nocpx = male_vrc[male_vrc['HAD_CPOX']==2]['SEX'].count()\n",
    "female_cpx = female_vrc[female_vrc['HAD_CPOX']==1]['SEX'].count()\n",
    "female_nocpx = female_vrc[female_vrc['HAD_CPOX']==2]['SEX'].count()"
   ]
  },
  {
   "cell_type": "code",
   "execution_count": 51,
   "metadata": {},
   "outputs": [],
   "source": [
    "male_ratio=male_cpx/(male_nocpx + male_cpx)\n",
    "female_ratio=female_cpx/(female_nocpx+female_cpx)"
   ]
  },
  {
   "cell_type": "code",
   "execution_count": 52,
   "metadata": {},
   "outputs": [
    {
     "data": {
      "text/plain": [
       "0.009582863585118376"
      ]
     },
     "execution_count": 52,
     "metadata": {},
     "output_type": "execute_result"
    }
   ],
   "source": [
    "male_ratio"
   ]
  },
  {
   "cell_type": "code",
   "execution_count": 53,
   "metadata": {},
   "outputs": [
    {
     "data": {
      "text/plain": [
       "0.007731582786287381"
      ]
     },
     "execution_count": 53,
     "metadata": {},
     "output_type": "execute_result"
    }
   ],
   "source": [
    "female_ratio"
   ]
  },
  {
   "cell_type": "code",
   "execution_count": 54,
   "metadata": {},
   "outputs": [
    {
     "name": "stdout",
     "output_type": "stream",
     "text": [
      "백신 맞은 남자 아이들의 cpx 걸린 비율: 0.009582863585118376\n",
      "백신 맞은 여자 아이들의 cpx 걸린 비율: 0.007731582786287381\n"
     ]
    }
   ],
   "source": [
    "print(\"백신 맞은 남자 아이들의 cpx 걸린 비율: {}\".format(male_ratio))\n",
    "print(\"백신 맞은 여자 아이들의 cpx 걸린 비율: {}\".format(female_ratio))"
   ]
  },
  {
   "cell_type": "code",
   "execution_count": null,
   "metadata": {},
   "outputs": [],
   "source": []
  }
 ],
 "metadata": {
  "kernelspec": {
   "display_name": "Python 3",
   "language": "python",
   "name": "python3"
  },
  "language_info": {
   "codemirror_mode": {
    "name": "ipython",
    "version": 3
   },
   "file_extension": ".py",
   "mimetype": "text/x-python",
   "name": "python",
   "nbconvert_exporter": "python",
   "pygments_lexer": "ipython3",
   "version": "3.8.5"
  }
 },
 "nbformat": 4,
 "nbformat_minor": 4
}

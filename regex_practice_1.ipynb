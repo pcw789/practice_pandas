{
 "cells": [
  {
   "cell_type": "markdown",
   "metadata": {},
   "source": [
    "# Regex practice 1"
   ]
  },
  {
   "cell_type": "markdown",
   "metadata": {},
   "source": [
    "'simple_string' 문장 내 이름 찾기. (대문자로 시작하는 단어 찾기)"
   ]
  },
  {
   "cell_type": "code",
   "execution_count": 1,
   "metadata": {},
   "outputs": [
    {
     "data": {
      "text/plain": [
       "['Amy', 'Mary', 'Ruth', 'Peter']"
      ]
     },
     "execution_count": 1,
     "metadata": {},
     "output_type": "execute_result"
    }
   ],
   "source": [
    "import re\n",
    "simple_string = \"\"\"Amy is 5 years old, and her sister Mary is 2 years old. Ruth and Peter, their parents, have 3 kids.\"\"\"\n",
    "\n",
    "re.findall(\"([A-Z][a-z]*)\", simple_string)"
   ]
  },
  {
   "cell_type": "markdown",
   "metadata": {},
   "source": [
    "# Regex practice 2"
   ]
  },
  {
   "cell_type": "code",
   "execution_count": 2,
   "metadata": {},
   "outputs": [
    {
     "data": {
      "text/plain": [
       "'Ronald Mayr: A\\nBell Kassulke: B\\nJacqueline Rupp: A \\nAlexander Zeller: C\\nValentina Denk: C \\nSimon Loidl: B \\nElias Jovanovic: B \\nStefanie Weninger: A \\nFabian Peer: C \\nHakim Botros: B\\nEmilie Lorentsen: B\\nHerman Karlsen: C\\nNathalie Delacruz: C\\nCasey Hartman: C\\nLily Walker : A\\nGerard Wang: C\\nTony Mcdowell: C\\nJake Wood: B\\nFatemeh Akhtar: B\\nKim Weston: B\\nNicholas Beatty: A\\nKirsten Williams: C\\nVaishali Surana: C\\nCoby Mccormack: C\\nYasmin Dar: B\\nRomy Donnelly: A\\nViswamitra Upandhye: B\\nKendrick Hilpert: A\\nKillian Kaufman: B\\nElwood Page: B\\nMukti Patel: A\\nEmily Lesch: C\\nElodie Booker: B\\nJedd Kim: A\\nAnnabel Davies: A\\nAdnan Chen: B\\nJonathan Berg: C\\nHank Spinka: B\\nAgnes Schneider: C\\nKimberly Green: A\\nLola-Rose Coates: C\\nRose Christiansen: C\\nShirley Hintz: C\\nHannah Bayer: B'"
      ]
     },
     "execution_count": 2,
     "metadata": {},
     "output_type": "execute_result"
    }
   ],
   "source": [
    "with open (\"data/grades.txt\", \"r\") as file:\n",
    "    grades=file.read()\n",
    "    \n",
    "grades"
   ]
  },
  {
   "cell_type": "markdown",
   "metadata": {},
   "source": [
    "'이름: 성적'이 기록되어 있는 'grades.txt' 파일 내에서 B 성적을 받은 사람 추출하기\n"
   ]
  },
  {
   "cell_type": "code",
   "execution_count": 3,
   "metadata": {},
   "outputs": [
    {
     "data": {
      "text/plain": [
       "['Bell Kassulke',\n",
       " 'Simon Loidl',\n",
       " 'Elias Jovanovic',\n",
       " 'Hakim Botros',\n",
       " 'Emilie Lorentsen',\n",
       " 'Jake Wood',\n",
       " 'Fatemeh Akhtar',\n",
       " 'Kim Weston',\n",
       " 'Yasmin Dar',\n",
       " 'Viswamitra Upandhye',\n",
       " 'Killian Kaufman',\n",
       " 'Elwood Page',\n",
       " 'Elodie Booker',\n",
       " 'Adnan Chen',\n",
       " 'Hank Spinka',\n",
       " 'Hannah Bayer']"
      ]
     },
     "execution_count": 3,
     "metadata": {},
     "output_type": "execute_result"
    }
   ],
   "source": [
    "re.findall(\"([A-z]+\\s[A-z]+): B\", grades)"
   ]
  },
  {
   "cell_type": "markdown",
   "metadata": {},
   "source": [
    "# Regex practice 3"
   ]
  },
  {
   "cell_type": "markdown",
   "metadata": {},
   "source": [
    "logdata.txt\n",
    "* a host (e.g., '146.204.224.152') \n",
    "* a user_name (e.g., 'feest6811' **note: sometimes the user name is missing! In this case, use '-' as the value for the username.**)\n",
    "* the time a request was made (e.g., '21/Jun/2019:15:45:24 -0700')\n",
    "* the post request type (e.g., 'POST /incentivize HTTP/1.1' **note: not everything is a POST!**)"
   ]
  },
  {
   "cell_type": "code",
   "execution_count": 4,
   "metadata": {},
   "outputs": [],
   "source": [
    "with open(\"data/logdata.txt\", \"r\") as file:\n",
    "    logdata = file.read()"
   ]
  },
  {
   "cell_type": "markdown",
   "metadata": {},
   "source": [
    "logdata\n",
    "```\n",
    "'146.204.224.152 - feest6811 [21/Jun/2019:15:45:24 -0700] \"POST /incentivize HTTP/1.1\" 302 4622\\n197.109.77.178 - kertzmann3129 [21/Jun/2019:15:45:25 -0700] \"DELETE /virtual/solutions/target/web+services HTTP/2.0\" 203 26554\\n156.127.178.177 - okuneva5222 [21/Jun/2019:15:45:27 -0700] \"DELETE /interactive/transparent/niches/revolutionize HTTP/1.1\" 416 14701\\n100.32.205.59 - ortiz8891 [21/Jun/2019:15:45:28 -0700] \"PATCH /architectures HTTP/1.0\" 204 6048\\n168.95.156.240 - stark2413 [21/Jun/2019:15:45:31 -0700] \"GET /engage HTTP/2.0\" 201 9645\\n71.172.239.195 - dooley1853 [21/Jun/2019:15:45:32 -0700] \"PUT /cutting-edge HTTP/2.0\" 406 24498\\n180.95.121.94 - mohr6893 [21/Jun/2019:15:45:34 -0700] \"PATCH /extensible/reinvent HTTP/1.1\" 201 27330\\n144.23.247.108 - auer7552 [21/Jun/2019:15:45:35 -0700] \"POST /extensible/infrastructures/one-to-one/enterprise HTTP/1.1\" 100 22921\\n2.179.103.97 - lind8584 [21/Jun/2019:15:45:36 -0700] \"POST /grow/front-end/e-commerce/robust HTTP/2.0\" 304 14641\\n241.114.184.133 - tromp8355 [21/Jun/2019:15:45:37 -0700] \"GET /redefine/orchestrate HTTP/1.0\" 204 29059\\n224.188.38.4 - keebler1423 [21/Jun/2019:15:45:40 -0700] \"PUT /orchestrate/out-of-the-box/unleash/syndicate HTTP/1.1\" 404 28211\\n94.11.36.112 - klein8508 [21/Jun/2019:15:45:41 -0700] \"POST /enha .......\n",
    "```"
   ]
  },
  {
   "cell_type": "markdown",
   "metadata": {},
   "source": [
    "'logdata.txt'를 list of dictionaries로 저장하기\n",
    "```\n",
    "example_dict = {\"host\":\"146.204.224.152\", \n",
    "                \"user_name\":\"feest6811\", \n",
    "                \"time\":\"21/Jun/2019:15:45:24 -0700\",\n",
    "                \"request\":\"POST /incentivize HTTP/1.1\"}\n",
    "```"
   ]
  },
  {
   "cell_type": "code",
   "execution_count": 5,
   "metadata": {},
   "outputs": [],
   "source": [
    "data_set = re.findall(\"([0-9]+.+) - ([A-z0-9-]+) \\[([0-9A-z:/]+ -[0-9]+)] \\\"([A-Z]+ [a-z0-9/%+-]+ [A-Z0-9/.]+)\",logdata)\n"
   ]
  },
  {
   "cell_type": "markdown",
   "metadata": {},
   "source": [
    "data_set\n",
    "```\n",
    "[('146.204.224.152',\n",
    "  'feest6811',\n",
    "  '21/Jun/2019:15:45:24 -0700',\n",
    "  'POST /incentivize HTTP/1.1'),\n",
    " ('197.109.77.178',\n",
    "  'kertzmann3129',\n",
    "  '21/Jun/2019:15:45:25 -0700',\n",
    "  'DELETE /virtual/solutions/target/web+services HTTP/2.0'),\n",
    " ('156.127.178.177',\n",
    "  'okuneva5222',\n",
    "  '21/Jun/2019:15:45:27 -0700',\n",
    "  'DELETE /interactive/transparent/niches/revolutionize HTTP/1.1'),\n",
    " ('100.32.205.59',\n",
    "  'ortiz8891',\n",
    "  '21/Jun/2019:15:45:28 -0700',\n",
    "  'PATCH /architectures HTTP/1.0'),\n",
    " ('168.95.156.240',\n",
    "  'stark2413',\n",
    "  '21/Jun/2019:15:45:31 -0700',\n",
    "  'GET /engage HTTP/2.0'),\n",
    "  ...\n",
    "  ...\n",
    "```"
   ]
  },
  {
   "cell_type": "code",
   "execution_count": 6,
   "metadata": {},
   "outputs": [],
   "source": [
    "list=[]\n",
    "for i in range(len(data_set)):\n",
    "    dict = {\"host\": data_set[i][0], 'user_name': data_set[i][1], \"time\": data_set[i][2],\"request\": data_set[i][3]}\n",
    "    list.append(dict)\n"
   ]
  },
  {
   "cell_type": "markdown",
   "metadata": {},
   "source": [
    "list\n",
    "```\n",
    "[{'host': '146.204.224.152',\n",
    "  'user_name': 'feest6811',\n",
    "  'time': '21/Jun/2019:15:45:24 -0700',\n",
    "  'request': 'POST /incentivize HTTP/1.1'},\n",
    " {'host': '197.109.77.178',\n",
    "  'user_name': 'kertzmann3129',\n",
    "  'time': '21/Jun/2019:15:45:25 -0700',\n",
    "  'request': 'DELETE /virtual/solutions/target/web+services HTTP/2.0'},\n",
    " {'host': '156.127.178.177',\n",
    "  'user_name': 'okuneva5222',\n",
    "  'time': '21/Jun/2019:15:45:27 -0700',\n",
    "  'request': 'DELETE /interactive/transparent/niches/revolutionize HTTP/1.1'},\n",
    " {'host': '100.32.205.59',\n",
    "  'user_name': 'ortiz8891',\n",
    "  'time': '21/Jun/2019:15:45:28 -0700',\n",
    "  'request': 'PATCH /architectures HTTP/1.0'},\n",
    " {'host': '168.95.156.240',\n",
    "  'user_name': 'stark2413',\n",
    "  'time': '21/Jun/2019:15:45:31 -0700',\n",
    "  'request': 'GET /engage HTTP/2.0'},\n",
    " {'host': '71.172.239.195',\n",
    "  'user_name': 'dooley1853',\n",
    "  'time': '21/Jun/2019:15:45:32 -0700',\n",
    "  'request': 'PUT /cutting-edge HTTP/2.0'},\n",
    " {'host': '180.95.121.94',\n",
    "  'user_name': 'mohr6893',\n",
    "  'time': '21/Jun/2019:15:45:34 -0700',\n",
    "  'request': 'PATCH /extensible/reinvent HTTP/1.1'},\n",
    " {'host': '144.23.247.108',\n",
    "  'user_name': 'auer7552',\n",
    "  'time': '21/Jun/2019:15:45:35 -0700',\n",
    "  'request': 'POST /extensible/infrastructures/one-to-one/enterprise HTTP/1.1'},\n",
    "  ...\n",
    "  ...\n",
    "```"
   ]
  },
  {
   "cell_type": "code",
   "execution_count": 7,
   "metadata": {},
   "outputs": [
    {
     "data": {
      "text/plain": [
       "979"
      ]
     },
     "execution_count": 7,
     "metadata": {},
     "output_type": "execute_result"
    }
   ],
   "source": [
    "len(list)"
   ]
  },
  {
   "cell_type": "code",
   "execution_count": null,
   "metadata": {},
   "outputs": [],
   "source": []
  }
 ],
 "metadata": {
  "kernelspec": {
   "display_name": "Python 3",
   "language": "python",
   "name": "python3"
  },
  "language_info": {
   "codemirror_mode": {
    "name": "ipython",
    "version": 3
   },
   "file_extension": ".py",
   "mimetype": "text/x-python",
   "name": "python",
   "nbconvert_exporter": "python",
   "pygments_lexer": "ipython3",
   "version": "3.8.5"
  }
 },
 "nbformat": 4,
 "nbformat_minor": 4
}
